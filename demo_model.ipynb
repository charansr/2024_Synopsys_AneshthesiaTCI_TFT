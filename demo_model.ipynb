{
 "cells": [
  {
   "cell_type": "code",
   "execution_count": 1,
   "metadata": {},
   "outputs": [
    {
     "name": "stdout",
     "output_type": "stream",
     "text": [
      "env: PYTORCH_ENABLE_MPS_FALLBACK=1\n"
     ]
    }
   ],
   "source": [
    "%env PYTORCH_ENABLE_MPS_FALLBACK=1"
   ]
  },
  {
   "cell_type": "code",
   "execution_count": 2,
   "metadata": {},
   "outputs": [
    {
     "name": "stderr",
     "output_type": "stream",
     "text": [
      "/Users/charansr/model_training/venv/lib/python3.10/site-packages/pytorch_forecasting/models/base_model.py:30: TqdmWarning: IProgress not found. Please update jupyter and ipywidgets. See https://ipywidgets.readthedocs.io/en/stable/user_install.html\n",
      "  from tqdm.autonotebook import tqdm\n"
     ]
    }
   ],
   "source": [
    "from torch import nn\n",
    "from pytorch_forecasting.metrics import MAE, MAPE, MASE, RMSE, SMAPE, MultiHorizonMetric, MultiLoss, QuantileLoss\n",
    "\n",
    "from collections import namedtuple\n",
    "import copy\n",
    "from copy import deepcopy\n",
    "import inspect\n",
    "import logging\n",
    "import os\n",
    "from typing import Any, Callable, Dict, Iterable, List, Literal, Optional, Tuple, Union\n",
    "import warnings\n",
    "\n",
    "import lightning.pytorch as pl\n",
    "from lightning.pytorch import LightningModule, Trainer\n",
    "from lightning.pytorch.callbacks import BasePredictionWriter, LearningRateFinder\n",
    "from lightning.pytorch.trainer.states import RunningStage\n",
    "from lightning.pytorch.utilities.parsing import AttributeDict, get_init_args\n",
    "import matplotlib.pyplot as plt\n",
    "import numpy as np\n",
    "from numpy.lib.function_base import iterable\n",
    "import pandas as pd\n",
    "import pytorch_optimizer\n",
    "from pytorch_optimizer import Ranger21\n",
    "import scipy.stats\n",
    "import torch\n",
    "import torch.nn as nn\n",
    "from torch.nn.utils import rnn\n",
    "from torch.optim.lr_scheduler import LambdaLR, ReduceLROnPlateau\n",
    "from torch.utils.data import DataLoader\n",
    "from tqdm.autonotebook import tqdm\n",
    "import yaml\n",
    "from lightning.pytorch.utilities import rank_zero_only\n",
    "\n",
    "from pytorch_forecasting.data import TimeSeriesDataSet\n",
    "from pytorch_forecasting.data.encoders import EncoderNormalizer, GroupNormalizer, MultiNormalizer, NaNLabelEncoder\n",
    "from pytorch_forecasting.metrics import (\n",
    "    MAE,\n",
    "    MASE,\n",
    "    SMAPE,\n",
    "    DistributionLoss,\n",
    "    MultiHorizonMetric,\n",
    "    MultiLoss,\n",
    "    QuantileLoss,\n",
    "    convert_torchmetric_to_pytorch_forecasting_metric,\n",
    ")\n",
    "from pytorch_forecasting.metrics.base_metrics import Metric\n",
    "from pytorch_forecasting.models.nn.embeddings import MultiEmbedding\n",
    "from pytorch_forecasting.utils import (\n",
    "    InitialParameterRepresenterMixIn,\n",
    "    OutputMixIn,\n",
    "    TupleOutputMixIn,\n",
    "    apply_to_list,\n",
    "    concat_sequences,\n",
    "    create_mask,\n",
    "    get_embedding_size,\n",
    "    groupby_apply,\n",
    "    to_list,\n",
    ")\n",
    "from copy import copy\n",
    "from typing import Dict, List, Tuple, Union\n",
    "\n",
    "from matplotlib import pyplot as plt\n",
    "import numpy as np\n",
    "import torch\n",
    "from torch import nn\n",
    "from torchmetrics import Metric as LightningMetric\n",
    "\n",
    "from pytorch_forecasting.data import TimeSeriesDataSet\n",
    "from pytorch_forecasting.data.encoders import NaNLabelEncoder\n",
    "from pytorch_forecasting.metrics import MAE, MAPE, MASE, RMSE, SMAPE, MultiHorizonMetric, MultiLoss, QuantileLoss\n",
    "from pytorch_forecasting.models.base_model import BaseModelWithCovariates\n",
    "from pytorch_forecasting.models.nn import LSTM, MultiEmbedding\n",
    "from pytorch_forecasting.models.temporal_fusion_transformer.sub_modules import (\n",
    "    AddNorm,\n",
    "    GateAddNorm,\n",
    "    GatedLinearUnit,\n",
    "    GatedResidualNetwork,\n",
    "    InterpretableMultiHeadAttention,\n",
    "    VariableSelectionNetwork,\n",
    ")\n",
    "from pytorch_forecasting.utils import create_mask, detach, integer_histogram, masked_op, padded_stack, to_list\n",
    "import pandas as pd\n",
    "import matplotlib.pyplot as plt\n",
    "import csv\n",
    "import statsmodels\n",
    "import random\n",
    "\n",
    "from statsmodels.tsa.seasonal import STL\n",
    "\n",
    "import numpy as np\n",
    "import pandas as pd\n",
    "from pytorch_forecasting import TimeSeriesDataSet\n",
    "from pytorch_forecasting import GroupNormalizer\n",
    "from pytorch_forecasting import Baseline\n",
    "from lightning.pytorch.callbacks.early_stopping import EarlyStopping\n",
    "from lightning.pytorch.callbacks import LearningRateMonitor\n",
    "from lightning.pytorch.loggers import TensorBoardLogger\n",
    "\n",
    "import matplotlib.pyplot as plt\n",
    "import torch\n",
    "import numpy as np\n",
    "import pandas as pd\n",
    "from pytorch_forecasting import TimeSeriesDataSet\n",
    "from pytorch_forecasting import GroupNormalizer\n",
    "from pytorch_forecasting import Baseline\n",
    "import lightning.pytorch as pl\n",
    "from lightning.pytorch.callbacks import EarlyStopping, LearningRateMonitor\n",
    "from lightning.pytorch.tuner import Tuner\n",
    "from pytorch_forecasting import TimeSeriesDataSet, TemporalFusionTransformer\n",
    "from pytorch_forecasting.metrics.quantile import QuantileLoss\n",
    "from lightning.pytorch.callbacks import ModelCheckpoint\n",
    "import pickle\n",
    "import math\n"
   ]
  },
  {
   "cell_type": "code",
   "execution_count": 3,
   "metadata": {},
   "outputs": [],
   "source": [
    "\n",
    "#important constants\n",
    "workernum =4\n",
    "batch_size = 16\n",
    "brave_workers = False\n",
    "pinmem=False\n",
    "marsh_coeff=50\n",
    "schnider_coeff=200\n",
    "eleveld_coeff=100\n",
    "thresh=0.8\n",
    "\n",
    "\n",
    "def append_string_to_txt(string_to_append, file_path):\n",
    "    try:\n",
    "        with open(file_path, 'a') as file:\n",
    "            file.write(string_to_append)\n",
    "        #print(f'String appended to {file_path} successfully.')\n",
    "    except Exception as e:\n",
    "        #print(f'Error: {e}')\n",
    "        pass\n"
   ]
  },
  {
   "cell_type": "code",
   "execution_count": 4,
   "metadata": {},
   "outputs": [],
   "source": [
    "def display_model():\n",
    "    test_df=final_df[final_df[\"caseid\"]== 14]\n",
    "    test_df=test_df[600:]\n",
    "    test_df.reset_index(inplace=True,drop=True)\n",
    "    test = TimeSeriesDataSet(\n",
    "        test_df,\n",
    "        time_idx=\"time\",\n",
    "        target=\"Orchestra/PPF20_RATE\",\n",
    "        group_ids=[\"caseid\"],\n",
    "        min_encoder_length=max_encoder_length // 2, \n",
    "        max_encoder_length=max_encoder_length,\n",
    "        min_prediction_length=1,\n",
    "        max_prediction_length=max_prediction_length,\n",
    "        static_categoricals=static_cat,\n",
    "        static_reals=static_tracks,\n",
    "        time_varying_known_reals=time_varying_known,\n",
    "        time_varying_unknown_reals=time_varying_notknown,\n",
    "        target_normalizer=GroupNormalizer(\n",
    "            groups=[\"caseid\"], transformation=\"softplus\"\n",
    "        ),  # we normalize by group\n",
    "        add_relative_time_idx=True,\n",
    "        add_target_scales=True,\n",
    "        add_encoder_length=True,\n",
    "        allow_missing_timesteps=True\n",
    "    )\n",
    "\n",
    "    test_dataloader = test.to_dataloader(train=False, batch_size=1, num_workers=1, persistent_workers=False,pin_memory=False)\n",
    "    #predictions = tft.predict(test_dataloader, return_y=True, fast_dev_run=True,trainer_kwargs=dict(accelerator=\"mps\"),mode_kwargs=dict(quantile_value=\"0.9\"))\n",
    "    #rawpred=tft.predict(test_dataloader,mode=\"raw\", return_x=True,fast_dev_run=True,trainer_kwargs=dict(accelerator=\"mps\"))\n",
    "    #plt.plot(rawpred.output[\"prediction\"][0][:,5].cpu())\n",
    "    #plt.plot(predictions.y[0].squeeze().cpu())\n",
    "    rawpred=tft.predict(test_dataloader,mode=\"raw\", return_x=True,fast_dev_run=True,trainer_kwargs=dict(accelerator=\"mps\"))\n",
    "    rawpred.output[\"prediction\"][0][:,3]=rawpred.output[\"prediction\"][0][:,5]\n",
    "    tft.plot_prediction(rawpred.x, rawpred.output, idx=0, add_loss_to_title=False,plot_attention=True)"
   ]
  },
  {
   "cell_type": "code",
   "execution_count": 5,
   "metadata": {},
   "outputs": [
    {
     "name": "stdout",
     "output_type": "stream",
     "text": [
      "df imported\n",
      "dropped\n",
      "dropped\n"
     ]
    }
   ],
   "source": [
    "\n",
    "final_df = pd.read_csv(\"/Users/charansr/model_training/tuningdf_pkpkd27.csv\")\n",
    "print(\"df imported\")\n",
    "\n",
    "if(\"Unnamed: 0.1\" in final_df.columns):\n",
    "    final_df=final_df.drop(\"Unnamed: 0.1\",axis=1)\n",
    "    print(\"dropped\")\n",
    "\n",
    "if(\"Unnamed: 0\" in final_df.columns):\n",
    "    final_df=final_df.drop(\"Unnamed: 0\",axis=1)\n",
    "    print(\"dropped\")\n",
    "\n",
    "if(\"Unnamed: 0.2\" in final_df.columns):\n",
    "    final_df=final_df.drop(\"Unnamed: 0.2\",axis=1)\n",
    "    print(\"dropped\")\n",
    "\n",
    "\n",
    "tar_mean=(final_df[\"Orchestra/PPF20_RATE\"]).mean()\n",
    "tar_std=(final_df[\"Orchestra/PPF20_RATE\"]).std()\n",
    "\n",
    "condition = final_df[\"Orchestra/PPF20_RATE\"] > (tar_mean + (thresh * tar_std))\n",
    "\n",
    "final_df[\"InfusionSpikes\"]=condition.apply(lambda x: 1 if x else 0)"
   ]
  },
  {
   "cell_type": "code",
   "execution_count": 6,
   "metadata": {},
   "outputs": [],
   "source": [
    "\n",
    "columns=[\"time\",\"caseid\",\"Orchestra/PPF20_CP\",\"Orchestra/PPF20_CT\",\"Orchestra/PPF20_RATE\",\"Orchestra/PPF20_CE\",\"Orchestra/RFTN20_CP\",\"Orchestra/RFTN20_CT\",\"Orchestra/RFTN20_RATE\",\"Orchestra/RFTN20_CE\",\"BIS/BIS\",\"Solar8000/HR\",\"Solar8000/PLETH_SPO2\",\"Solar8000/ART_MBP\",\"Solar8000/ART_SBP\",\"Solar8000/BT\",\"casestart\",\"anestart\",\"opstart\",\"age\",\"sex\",\"height\",\"weight\",\"bmi\",\"asa\",\"optype\",\"dx\",\"opname\",\"ane_type\",\"preop_dm\",\"Marsh\",\"Schnider\",\"Eleveld\"]\n",
    "static_tracks=[\"casestart\",\"anestart\",\"opstart\",\"age\",\"height\",\"weight\",\"bmi\",\"asa\",\"preop_dm\"]\n",
    "static_cat=[\"sex\",\"optype\",\"dx\",\"opname\",\"ane_type\"]\n",
    "time_varying_known=[\"Orchestra/PPF20_CT\",\"Orchestra/RFTN20_CT\",\"Marsh\",\"Schnider\",\"Eleveld\",\"InfusionSpikes\"]\n",
    "time_varying_notknown=[\"Orchestra/PPF20_RATE\",\"Orchestra/PPF20_CP\",\"Orchestra/PPF20_CE\",\"Orchestra/RFTN20_CP\",\"Orchestra/RFTN20_CE\",\"Orchestra/RFTN20_RATE\",\"Solar8000/HR\",\"Solar8000/PLETH_SPO2\",\"Solar8000/ART_MBP\",\"Solar8000/ART_SBP\",\"Solar8000/BT\",\"BIS/BIS\"]\n",
    "\n",
    "final_df.reset_index(drop=True,inplace=True)\n",
    "final_df[static_tracks]=final_df[static_tracks].astype(\"float\")\n",
    "final_df[time_varying_known]=final_df[time_varying_known].astype(\"float\")\n",
    "final_df[time_varying_notknown]=final_df[time_varying_notknown].astype(\"float\")\n",
    "final_df[\"time\"]=final_df[\"time\"].astype(int)\n",
    "final_df[static_cat]=final_df[static_cat].astype(str)\n",
    "final_df=final_df.dropna()\n",
    "final_df.reset_index(drop=True,inplace=True)\n",
    "\n",
    "final_df[\"Marsh\"]=final_df[\"Marsh\"]*marsh_coeff\n",
    "final_df[\"Schnider\"]=final_df[\"Schnider\"]*schnider_coeff\n",
    "final_df[\"Eleveld\"]=final_df[\"Eleveld\"]*eleveld_coeff"
   ]
  },
  {
   "cell_type": "code",
   "execution_count": 7,
   "metadata": {},
   "outputs": [
    {
     "name": "stderr",
     "output_type": "stream",
     "text": [
      "/var/folders/3s/hcbtx1hn1cs7zkby2nr_hyp80000gn/T/ipykernel_97976/2179078893.py:10: SettingWithCopyWarning: \n",
      "A value is trying to be set on a copy of a slice from a DataFrame.\n",
      "Try using .loc[row_indexer,col_indexer] = value instead\n",
      "\n",
      "See the caveats in the documentation: https://pandas.pydata.org/pandas-docs/stable/user_guide/indexing.html#returning-a-view-versus-a-copy\n",
      "  train_df[\"InfusionSpikes\"]=train_df[\"InfusionSpikes\"].astype(\"Int64\")\n"
     ]
    }
   ],
   "source": [
    "with open(\"/Users/charansr/model_training/train_caseids.pkl\", 'rb') as file:\n",
    "    traincas = pickle.load(file)\n",
    "\n",
    "traincas = [caseid for caseid in traincas]\n",
    "traincas.sort()\n",
    "traincas=traincas[0:3]\n",
    "train_df=final_df[final_df[\"caseid\"].isin(traincas)]\n",
    "\n",
    "#train_df=final_df[final_df[\"caseid\"]==34]\n",
    "train_df[\"InfusionSpikes\"]=train_df[\"InfusionSpikes\"].astype(\"Int64\")\n",
    "\n",
    "with open(\"/Users/charansr/model_training/val_caseids.pkl\", 'rb') as file:\n",
    "    valcas = pickle.load(file)\n",
    "\n",
    "valcas = [caseid for caseid in valcas if caseid < 1008]\n",
    "valcas.sort()\n",
    "valcas=valcas[0:1]\n",
    "val_df=final_df[final_df[\"caseid\"].isin(valcas)]\n",
    "#val_df=final_df[final_df[\"caseid\"]==16]\n",
    "\n",
    "\n",
    "val_df=val_df.reset_index(drop=True)\n",
    "train_df=train_df.reset_index(drop=True)"
   ]
  },
  {
   "cell_type": "code",
   "execution_count": 8,
   "metadata": {},
   "outputs": [
    {
     "name": "stdout",
     "output_type": "stream",
     "text": [
      "Training Dataset Created(177)\n"
     ]
    }
   ],
   "source": [
    "\n",
    "max_prediction_length = 200\n",
    "max_encoder_length = 600\n",
    "#training_cutoff = final_df[\"time\"].max() - max_prediction_length\n",
    "\n",
    "training = TimeSeriesDataSet(\n",
    "    train_df,\n",
    "    time_idx=\"time\",\n",
    "    target=\"Orchestra/PPF20_RATE\",\n",
    "    group_ids=[\"caseid\"],\n",
    "    min_encoder_length=max_encoder_length // 2, \n",
    "    max_encoder_length=max_encoder_length,\n",
    "    min_prediction_length=1,\n",
    "    max_prediction_length=max_prediction_length,\n",
    "    static_categoricals=static_cat,\n",
    "    static_reals=static_tracks,\n",
    "    time_varying_known_reals=time_varying_known,\n",
    "    time_varying_unknown_reals=time_varying_notknown,\n",
    "    target_normalizer=GroupNormalizer(\n",
    "        groups=[\"caseid\"], transformation=\"softplus\"\n",
    "    ),  # we normalize by group\n",
    "    add_relative_time_idx=True,\n",
    "    add_target_scales=True,\n",
    "    add_encoder_length=True,\n",
    "    allow_missing_timesteps=True\n",
    ")\n",
    "print(\"Training Dataset Created(177)\")\n",
    "\n",
    "# create dataloaders for  our model\n",
    "\n",
    "# if you have a strong GPU, feel free to increase the number of workers  \n",
    "train_dataloader = training.to_dataloader(train=True, batch_size=batch_size, num_workers=workernum, persistent_workers=brave_workers,pin_memory=pinmem)"
   ]
  },
  {
   "cell_type": "code",
   "execution_count": 9,
   "metadata": {},
   "outputs": [
    {
     "name": "stdout",
     "output_type": "stream",
     "text": [
      "Validation Dataset Created(219)\n",
      "Dataloaders created(223)\n"
     ]
    }
   ],
   "source": [
    "\n",
    "validation = TimeSeriesDataSet(\n",
    "    val_df,\n",
    "    time_idx=\"time\",\n",
    "    target=\"Orchestra/PPF20_RATE\",\n",
    "    group_ids=[\"caseid\"],\n",
    "    min_encoder_length=max_encoder_length // 2, \n",
    "    max_encoder_length=max_encoder_length,\n",
    "    min_prediction_length=1,\n",
    "    max_prediction_length=max_prediction_length,\n",
    "    static_categoricals=static_cat,\n",
    "    static_reals=static_tracks,\n",
    "    time_varying_known_reals=time_varying_known,\n",
    "    time_varying_unknown_reals=time_varying_notknown,\n",
    "    target_normalizer=GroupNormalizer(\n",
    "        groups=[\"caseid\"], transformation=\"softplus\"\n",
    "    ),  # we normalize by group\n",
    "    add_relative_time_idx=True,\n",
    "    add_target_scales=True,\n",
    "    add_encoder_length=True,\n",
    "    allow_missing_timesteps=True\n",
    ")\n",
    "print(\"Validation Dataset Created(219)\")\n",
    "\n",
    "val_dataloader = validation.to_dataloader(train=False, batch_size=batch_size, num_workers=workernum, persistent_workers=brave_workers,pin_memory=pinmem)\n",
    "\n",
    "print(\"Dataloaders created(223)\")\n"
   ]
  },
  {
   "cell_type": "code",
   "execution_count": 10,
   "metadata": {},
   "outputs": [],
   "source": [
    "\n",
    "best_checkpoint_callback = ModelCheckpoint(\n",
    "    monitor='val_loss',  # Choose a metric to monitor (e.g., validation loss)\n",
    "    dirpath='/home/sridhar/out_dev1/checkpoints/',  # Directory to save checkpoints\n",
    "    filename='best_model-{epoch:02d}-{val_loss:.2f}',  # Naming pattern for saved checkpoints\n",
    "    save_top_k=1,  # Save only the best model\n",
    "    every_n_epochs=1,\n",
    "    mode='min',  # 'min' if monitoring validation loss, 'max' if monitoring validation accuracy\n",
    ")\n",
    "all_checkpoint_callback = ModelCheckpoint(\n",
    "    dirpath='/home/sridhar/out_dev1/checkpoints/',  # Directory to save checkpoints\n",
    "    filename='all_model-{epoch:02d}-{val_loss:.2f}',  # Naming pattern for saved checkpoints\n",
    "    save_top_k=-1,\n",
    "    every_n_epochs=1\n",
    ")\n"
   ]
  },
  {
   "cell_type": "code",
   "execution_count": 11,
   "metadata": {},
   "outputs": [],
   "source": [
    "\n",
    "\n",
    "class metric_record(pl.callbacks.Callback):\n",
    "    \n",
    "    def on_epoch_start(self, trainer, pl_module):\n",
    "        print(trainer.current_epoch)\n",
    "        newep=str(trainer.current_epoch)\n",
    "        newep+=\"\\n\"\n",
    "        append_string_to_txt(newep,\"/home/sridhar/out_dev1/output.txt\")\n",
    "        #print(pl_module.logging_metrics)\n",
    "        #print(trainer.callback_metrics)\n",
    "        \"\"\"for metric in pl_module.logging_metrics:\n",
    "            metric_name = metric.__class__.__name__\n",
    "            value = trainer.callback_metrics.get(metric_name, None)\n",
    "            print(f'{metric_name}: {value}')\n",
    "            a=f'{metric_name}: {value}\\n'\n",
    "            append_string_to_txt(a,\"output.txt\")\"\"\""
   ]
  },
  {
   "cell_type": "code",
   "execution_count": 12,
   "metadata": {},
   "outputs": [],
   "source": [
    "  \n",
    "\n",
    "class custom_tft(TemporalFusionTransformer):\n",
    "    def log_metrics(\n",
    "        self,\n",
    "        x: Dict[str, torch.Tensor],\n",
    "        y: torch.Tensor,\n",
    "        out: Dict[str, torch.Tensor],\n",
    "        prediction_kwargs: Dict[str, Any] = None,\n",
    "    ) -> None:\n",
    "        \"\"\"\n",
    "        Log metrics every training/validation step.\n",
    "\n",
    "        Args:\n",
    "            x (Dict[str, torch.Tensor]): x as passed to the network by the dataloader\n",
    "            y (torch.Tensor): y as passed to the loss function by the dataloader\n",
    "            out (Dict[str, torch.Tensor]): output of the network\n",
    "            prediction_kwargs (Dict[str, Any]): parameters for ``to_prediction()`` of the loss metric.\n",
    "        \"\"\"\n",
    "        # logging losses - for each target\n",
    "        if prediction_kwargs is None:\n",
    "            prediction_kwargs = {}\n",
    "        y_hat_point = self.to_prediction(out, **prediction_kwargs)\n",
    "        if isinstance(self.loss, MultiLoss):\n",
    "            y_hat_point_detached = [p.detach() for p in y_hat_point]\n",
    "        else:\n",
    "            y_hat_point_detached = [y_hat_point.detach()]\n",
    "\n",
    "        for metric in self.logging_metrics:\n",
    "            for idx, y_point, y_part, encoder_target in zip(\n",
    "                list(range(len(y_hat_point_detached))),\n",
    "                y_hat_point_detached,\n",
    "                to_list(y[0]),\n",
    "                to_list(x[\"encoder_target\"]),\n",
    "            ):\n",
    "                y_true = (y_part, y[1])\n",
    "                if isinstance(metric, MASE):\n",
    "                    loss_value = metric(\n",
    "                        y_point, y_true, encoder_target=encoder_target, encoder_lengths=x[\"encoder_lengths\"]\n",
    "                    )\n",
    "                else:\n",
    "                    loss_value = metric(y_point, y_true)\n",
    "                if len(y_hat_point_detached) > 1:\n",
    "                    target_tag = self.target_names[idx] + \" \"\n",
    "                else:\n",
    "                    target_tag = \"\"\n",
    "                    \n",
    "                    #CUSTOM PART START\n",
    "                    #print(f\"{target_tag}{self.current_stage}_{metric.name}\",\": \",loss_value)\n",
    "                    save_string = \"{}{}_{}: {}\".format(target_tag, self.current_stage, metric.name, loss_value)\n",
    "                    save_string+=\"\\n\"\n",
    "                    append_string_to_txt(save_string,\"/home/sridhar/out_dev1/output.txt\")\n",
    "                    # CUSTOM PART END\n",
    "                    \n",
    "                    self.log(\n",
    "                    f\"{target_tag}{self.current_stage}_{metric.name}\",\n",
    "                    loss_value,\n",
    "                    on_step=self.training,\n",
    "                    on_epoch=True,\n",
    "                    batch_size=len(x[\"decoder_target\"]),\n",
    "                    sync_dist=True\n",
    "                )\n"
   ]
  },
  {
   "cell_type": "code",
   "execution_count": 13,
   "metadata": {},
   "outputs": [],
   "source": [
    "\n",
    "spike_coeff=3000000 \n",
    "class custom_quantile_loss(QuantileLoss):\n",
    "     def loss(self, y_pred: torch.Tensor, target: torch.Tensor) -> torch.Tensor:\n",
    "        # calculate quantile loss\n",
    "        losses = []\n",
    "        for i, q in enumerate(self.quantiles):\n",
    "            errors = target - y_pred[..., i]\n",
    "            quantile_loss = torch.max((q - 1) * errors, q * errors).unsqueeze(-1)\n",
    "            tar_mean=torch.mean(target)\n",
    "            tar_std=torch.std(target)\n",
    "            extra_penalty = torch.where((target[i] > (tar_mean+(thresh*tar_std))),spike_coeff,1)\n",
    "            # Add extra penalty for predictions less than 50 but greater than 100\n",
    "            #extra_penalty = torch.where((y_pred[..., i] < 50) & (target[i] > 100),spike_coeff,1)\n",
    "            #extra_penalty = torch.where((errors>100),spike_coeff,1)\n",
    "            #extra_penalty=extra_penalty.unsqueeze(-1)\n",
    "            #print(\"\\nwow\")\n",
    "            #print(extra_penalty.shape)\n",
    "            # Combine quantile loss and extra penalty\n",
    "            total_loss = quantile_loss * extra_penalty\n",
    "           \n",
    "            losses.append(total_loss)\n",
    "\n",
    "\n",
    "        losses = 2 * torch.cat(losses, dim=2)\n",
    "\n",
    "        # Calculate mean along the last dimension without collapsing it\n",
    "        #mean_loss = losses.mean(dim=-1, keepdim=True)\n",
    "\n",
    "        return losses\n"
   ]
  },
  {
   "cell_type": "code",
   "execution_count": 14,
   "metadata": {},
   "outputs": [
    {
     "name": "stderr",
     "output_type": "stream",
     "text": [
      "GPU available: True (mps), used: True\n",
      "TPU available: False, using: 0 TPU cores\n",
      "IPU available: False, using: 0 IPUs\n",
      "HPU available: False, using: 0 HPUs\n"
     ]
    }
   ],
   "source": [
    "logger = TensorBoardLogger(save_dir=\"/home/sridhar/out_dev1\")  \n",
    "\n",
    "trainer = pl.Trainer(\n",
    "    max_epochs=45,\n",
    "    accelerator='gpu',\n",
    "    devices=\"auto\",\n",
    "    strategy=\"auto\", \n",
    "    enable_model_summary=True,\n",
    "    gradient_clip_val=0.01,\n",
    "    callbacks=[best_checkpoint_callback,all_checkpoint_callback,metric_record()],\n",
    "    logger=logger,\n",
    "    log_every_n_steps=50,\n",
    "    accumulate_grad_batches=8,\n",
    "    limit_train_batches=0.15,\n",
    "    limit_test_batches=0.11,\n",
    "    limit_val_batches=0.011\n",
    ")"
   ]
  },
  {
   "cell_type": "code",
   "execution_count": 15,
   "metadata": {},
   "outputs": [
    {
     "name": "stderr",
     "output_type": "stream",
     "text": [
      "/Users/charansr/model_training/venv/lib/python3.10/site-packages/lightning/pytorch/utilities/parsing.py:199: Attribute 'loss' is an instance of `nn.Module` and is already saved during checkpointing. It is recommended to ignore them using `self.save_hyperparameters(ignore=['loss'])`.\n",
      "/Users/charansr/model_training/venv/lib/python3.10/site-packages/lightning/pytorch/utilities/parsing.py:199: Attribute 'logging_metrics' is an instance of `nn.Module` and is already saved during checkpointing. It is recommended to ignore them using `self.save_hyperparameters(ignore=['logging_metrics'])`.\n"
     ]
    }
   ],
   "source": [
    "\n",
    "tft = custom_tft.from_dataset(\n",
    "    training,\n",
    "    learning_rate=0.01,\n",
    "    hidden_size=160,\n",
    "    attention_head_size=4,\n",
    "    dropout=0.1,\n",
    "    hidden_continuous_size=160,\n",
    "    output_size=7,  # there are 7 quantiles by default: [0.02, 0.1, 0.25, 0.5, 0.75, 0.9, 0.98]\n",
    "    loss=custom_quantile_loss(),\n",
    "    log_interval=10, \n",
    "    reduce_on_plateau_patience=4,\n",
    "    logging_metrics = nn.ModuleList([SMAPE(), MAE(), RMSE(), MAPE()])\n",
    ")"
   ]
  },
  {
   "cell_type": "code",
   "execution_count": 16,
   "metadata": {},
   "outputs": [
    {
     "name": "stderr",
     "output_type": "stream",
     "text": [
      "/Users/charansr/model_training/venv/lib/python3.10/site-packages/sklearn/base.py:376: InconsistentVersionWarning: Trying to unpickle estimator StandardScaler from version 1.4.1.post1 when using version 1.4.0. This might lead to breaking code or invalid results. Use at your own risk. For more info please refer to:\n",
      "https://scikit-learn.org/stable/model_persistence.html#security-maintainability-limitations\n",
      "  warnings.warn(\n"
     ]
    },
    {
     "data": {
      "text/plain": [
       "<All keys matched successfully>"
      ]
     },
     "execution_count": 16,
     "metadata": {},
     "output_type": "execute_result"
    }
   ],
   "source": [
    "path = \"/Users/charansr/output_anesthesia/checkpoints/all_model-epoch=67-val_loss=782185.88.ckpt\"\n",
    "checkpoint=torch.load(path,map_location=torch.device('mps'))\n",
    "tft.load_state_dict(state_dict=checkpoint[\"state_dict\"])\n"
   ]
  },
  {
   "cell_type": "code",
   "execution_count": 17,
   "metadata": {},
   "outputs": [
    {
     "name": "stderr",
     "output_type": "stream",
     "text": [
      "GPU available: True (mps), used: True\n",
      "TPU available: False, using: 0 TPU cores\n",
      "IPU available: False, using: 0 IPUs\n",
      "HPU available: False, using: 0 HPUs\n",
      "Running in `fast_dev_run` mode: will run the requested loop using 1 batch(es). Logging and checkpointing is suppressed.\n",
      "/Users/charansr/model_training/venv/lib/python3.10/site-packages/lightning/pytorch/trainer/connectors/data_connector.py:436: Consider setting `persistent_workers=True` in 'predict_dataloader' to speed up the dataloader worker initialization.\n",
      "/Users/charansr/model_training/venv/lib/python3.10/site-packages/torch/nn/functional.py:4024: UserWarning: The operator 'aten::upsample_linear1d.out' is not currently supported on the MPS backend and will fall back to run on the CPU. This may have performance implications. (Triggered internally at /Users/runner/work/pytorch/pytorch/pytorch/aten/src/ATen/mps/MPSFallback.mm:13.)\n",
      "  return torch._C._nn.upsample_linear1d(input, output_size, align_corners, scale_factors)\n"
     ]
    },
    {
     "data": {
      "image/png": "[encoded data removed]",
      "text/plain": [
       "<Figure size 640x480 with 2 Axes>"
      ]
     },
     "metadata": {},
     "output_type": "display_data"
    }
   ],
   "source": [
    "display_model()"
   ]
  }
 ],
 "metadata": {
  "kernelspec": {
   "display_name": "venv",
   "language": "python",
   "name": "python3"
  },
  "language_info": {
   "codemirror_mode": {
    "name": "ipython",
    "version": 3
   },
   "file_extension": ".py",
   "mimetype": "text/x-python",
   "name": "python",
   "nbconvert_exporter": "python",
   "pygments_lexer": "ipython3",
   "version": "3.10.11"
  }
 },
 "nbformat": 4,
 "nbformat_minor": 2
}
