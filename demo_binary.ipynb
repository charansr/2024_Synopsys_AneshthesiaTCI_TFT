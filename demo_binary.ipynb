{
 "cells": [
  {
   "cell_type": "code",
   "execution_count": 1,
   "metadata": {},
   "outputs": [
    {
     "name": "stdout",
     "output_type": "stream",
     "text": [
      "env: PYTORCH_ENABLE_MPS_FALLBACK=1\n"
     ]
    }
   ],
   "source": [
    "%env PYTORCH_ENABLE_MPS_FALLBACK=1"
   ]
  },
  {
   "cell_type": "code",
   "execution_count": 2,
   "metadata": {},
   "outputs": [],
   "source": [
    "from lightning.pytorch.utilities import disable_possible_user_warnings\n",
    "disable_possible_user_warnings()\n",
    "import warnings\n",
    "\n",
    "warnings.filterwarnings(\"ignore\", \".*Consider setting `persistent_workers=True` in 'predict_dataloader' to speed up the dataloader worker initialization.*\")\n",
    "warnings.filterwarnings(\"ignore\", \".*Running in `fast_dev_run` mode: will run the requested loop using 1 batch(es). Logging and checkpointing is suppressed.*\")\n",
    "import logging\n",
    "logging.getLogger('lightning').setLevel(0)\n",
    "\n"
   ]
  },
  {
   "cell_type": "code",
   "execution_count": 3,
   "metadata": {},
   "outputs": [
    {
     "name": "stderr",
     "output_type": "stream",
     "text": [
      "/Users/charansr/model_training/venv/lib/python3.10/site-packages/pytorch_forecasting/models/base_model.py:30: TqdmWarning: IProgress not found. Please update jupyter and ipywidgets. See https://ipywidgets.readthedocs.io/en/stable/user_install.html\n",
      "  from tqdm.autonotebook import tqdm\n"
     ]
    }
   ],
   "source": [
    "from torch import nn\n",
    "from pytorch_forecasting.metrics import MAE, MAPE, MASE, RMSE, SMAPE, MultiHorizonMetric, MultiLoss\n",
    "\n",
    "from collections import namedtuple\n",
    "import copy\n",
    "from copy import deepcopy\n",
    "import inspect\n",
    "import logging\n",
    "import os\n",
    "from typing import Any, Callable, Dict, Iterable, List, Literal, Optional, Tuple, Union\n",
    "import warnings\n",
    "\n",
    "import lightning.pytorch as pl\n",
    "from lightning.pytorch import LightningModule, Trainer\n",
    "from lightning.pytorch.callbacks import BasePredictionWriter, LearningRateFinder\n",
    "from lightning.pytorch.trainer.states import RunningStage\n",
    "from lightning.pytorch.utilities.parsing import AttributeDict, get_init_args\n",
    "import matplotlib.pyplot as plt\n",
    "import numpy as np\n",
    "from numpy.lib.function_base import iterable\n",
    "import pandas as pd\n",
    "import pytorch_optimizer\n",
    "from pytorch_optimizer import Ranger21\n",
    "import scipy.stats\n",
    "import torch\n",
    "import torch.nn as nn\n",
    "from torch.nn.utils import rnn\n",
    "from torch.optim.lr_scheduler import LambdaLR, ReduceLROnPlateau\n",
    "from torch.utils.data import DataLoader\n",
    "from tqdm.autonotebook import tqdm\n",
    "import yaml\n",
    "from lightning.pytorch.utilities import rank_zero_only\n",
    "\n",
    "from pytorch_forecasting.data import TimeSeriesDataSet\n",
    "from pytorch_forecasting.data.encoders import EncoderNormalizer, GroupNormalizer, MultiNormalizer, NaNLabelEncoder\n",
    "from pytorch_forecasting.metrics import (\n",
    "    MAE,\n",
    "    MASE,\n",
    "    SMAPE,\n",
    "    DistributionLoss,\n",
    "    MultiHorizonMetric,\n",
    "    MultiLoss,\n",
    "    convert_torchmetric_to_pytorch_forecasting_metric,\n",
    "    CrossEntropy\n",
    "    \n",
    ")\n",
    "from pytorch_forecasting.metrics.base_metrics import Metric\n",
    "from pytorch_forecasting.models.nn.embeddings import MultiEmbedding\n",
    "from pytorch_forecasting.utils import (\n",
    "    InitialParameterRepresenterMixIn,\n",
    "    OutputMixIn,\n",
    "    TupleOutputMixIn,\n",
    "    apply_to_list,\n",
    "    concat_sequences,\n",
    "    create_mask,\n",
    "    get_embedding_size,\n",
    "    groupby_apply,\n",
    "    to_list,\n",
    ")\n",
    "from copy import copy\n",
    "from typing import Dict, List, Tuple, Union\n",
    "\n",
    "from matplotlib import pyplot as plt\n",
    "import numpy as np\n",
    "import torch\n",
    "from torch import nn\n",
    "from torchmetrics import Accuracy, Metric as LightningMetric\n",
    "\n",
    "from pytorch_forecasting.data import TimeSeriesDataSet\n",
    "from pytorch_forecasting.data.encoders import NaNLabelEncoder\n",
    "from pytorch_forecasting.metrics import MAE, MAPE, MASE, RMSE, SMAPE, MultiHorizonMetric, MultiLoss, QuantileLoss\n",
    "from pytorch_forecasting.models.base_model import BaseModelWithCovariates\n",
    "from pytorch_forecasting.models.nn import LSTM, MultiEmbedding\n",
    "from pytorch_forecasting.models.temporal_fusion_transformer.sub_modules import (\n",
    "    AddNorm,\n",
    "    GateAddNorm,\n",
    "    GatedLinearUnit,\n",
    "    GatedResidualNetwork,\n",
    "    InterpretableMultiHeadAttention,\n",
    "    VariableSelectionNetwork,\n",
    ")\n",
    "from pytorch_forecasting.utils import create_mask, detach, integer_histogram, masked_op, padded_stack, to_list\n",
    "import pandas as pd\n",
    "import matplotlib.pyplot as plt\n",
    "import csv\n",
    "import statsmodels\n",
    "import random\n",
    "\n",
    "from statsmodels.tsa.seasonal import STL\n",
    "\n",
    "import numpy as np\n",
    "import pandas as pd\n",
    "from pytorch_forecasting import TimeSeriesDataSet\n",
    "from pytorch_forecasting import GroupNormalizer\n",
    "from pytorch_forecasting import Baseline\n",
    "from lightning.pytorch.callbacks.early_stopping import EarlyStopping\n",
    "from lightning.pytorch.callbacks import LearningRateMonitor\n",
    "from lightning.pytorch.loggers import TensorBoardLogger\n",
    "from pytorch_forecasting.data.encoders import NaNLabelEncoder\n",
    "\n",
    "import matplotlib.pyplot as plt\n",
    "import torch\n",
    "import numpy as np\n",
    "import pandas as pd\n",
    "from pytorch_forecasting import TimeSeriesDataSet\n",
    "from pytorch_forecasting import GroupNormalizer\n",
    "from pytorch_forecasting import Baseline\n",
    "import lightning.pytorch as pl\n",
    "from lightning.pytorch.callbacks import EarlyStopping, LearningRateMonitor\n",
    "from lightning.pytorch.tuner import Tuner\n",
    "from pytorch_forecasting import TimeSeriesDataSet, TemporalFusionTransformer\n",
    "from lightning.pytorch.callbacks import ModelCheckpoint\n",
    "import pickle\n",
    "import math\n",
    "from pytorch_forecasting.metrics import CrossEntropy\n",
    "import torch.nn.functional as F\n",
    "\n",
    "\n",
    "\n"
   ]
  },
  {
   "cell_type": "code",
   "execution_count": 4,
   "metadata": {},
   "outputs": [],
   "source": [
    "\n",
    "#important constants\n",
    "workernum = 4\n",
    "batch_size = 8\n",
    "brave_workers = False\n",
    "pinmem=False\n",
    "marsh_coeff=50\n",
    "schnider_coeff=200\n",
    "eleveld_coeff=100\n",
    "\n",
    "\n",
    "\n",
    "def append_string_to_txt(string_to_append, file_path):\n",
    "    try:\n",
    "        with open(file_path, 'a') as file:\n",
    "            file.write(string_to_append)\n",
    "        #print(f'String appended to {file_path} successfully.')\n",
    "    except Exception as e:\n",
    "        #print(f'Error: {e}')\n",
    "        pass\n",
    "\n",
    "\n"
   ]
  },
  {
   "cell_type": "code",
   "execution_count": 5,
   "metadata": {},
   "outputs": [
    {
     "name": "stdout",
     "output_type": "stream",
     "text": [
      "df imported\n",
      "dropped\n",
      "dropped\n"
     ]
    }
   ],
   "source": [
    "\n",
    "\n",
    "final_df = pd.read_csv(\"/Users/charansr/model_training/tuningdf_pkpkd27.csv\")\n",
    "print(\"df imported\")\n",
    "\n",
    "if(\"Unnamed: 0.1\" in final_df.columns):\n",
    "    final_df=final_df.drop(\"Unnamed: 0.1\",axis=1)\n",
    "    print(\"dropped\")\n",
    "\n",
    "if(\"Unnamed: 0\" in final_df.columns):\n",
    "    final_df=final_df.drop(\"Unnamed: 0\",axis=1)\n",
    "    print(\"dropped\")\n",
    "\n",
    "if(\"Unnamed: 0.2\" in final_df.columns):\n",
    "    final_df=final_df.drop(\"Unnamed: 0.2\",axis=1)\n",
    "    print(\"dropped\")\n"
   ]
  },
  {
   "cell_type": "code",
   "execution_count": 6,
   "metadata": {},
   "outputs": [],
   "source": [
    "\n",
    "tar_mean=(final_df[\"Orchestra/PPF20_RATE\"]).mean()\n",
    "tar_std=(final_df[\"Orchestra/PPF20_RATE\"]).std()\n",
    "\n",
    "condition = final_df[\"Orchestra/PPF20_RATE\"] > (tar_mean + (0.5 * tar_std))\n",
    "\n",
    "final_df[\"InfusionSpikes\"]=condition.apply(lambda x: 1 if x else 0)\n",
    "final_df[\"InfusionSpikes\"]=final_df[\"InfusionSpikes\"].astype(\"Int64\")\n",
    "\n",
    "\n",
    "columns=[\"time\",\"caseid\",\"Orchestra/PPF20_CP\",\"Orchestra/PPF20_CT\",\"Orchestra/PPF20_RATE\",\"Orchestra/PPF20_CE\",\"Orchestra/RFTN20_CP\",\"Orchestra/RFTN20_CT\",\"Orchestra/RFTN20_RATE\",\"Orchestra/RFTN20_CE\",\"BIS/BIS\",\"Solar8000/HR\",\"Solar8000/PLETH_SPO2\",\"Solar8000/ART_MBP\",\"Solar8000/ART_SBP\",\"Solar8000/BT\",\"casestart\",\"anestart\",\"opstart\",\"age\",\"sex\",\"height\",\"weight\",\"bmi\",\"asa\",\"optype\",\"dx\",\"opname\",\"ane_type\",\"preop_dm\",\"Marsh\",\"Schnider\",\"Eleveld\",\"InfusionSpikes\"]\n",
    "static_tracks=[\"casestart\",\"anestart\",\"opstart\",\"age\",\"height\",\"weight\",\"bmi\",\"asa\",\"preop_dm\"]\n",
    "static_cat=[\"sex\",\"optype\",\"dx\",\"opname\",\"ane_type\"]\n",
    "time_varying_known=[\"Orchestra/PPF20_CT\",\"Orchestra/RFTN20_CT\",\"Marsh\",\"Schnider\",\"Eleveld\"]\n",
    "time_varying_notknown=[\"Orchestra/PPF20_RATE\",\"Orchestra/PPF20_CP\",\"Orchestra/PPF20_CE\",\"Orchestra/RFTN20_CP\",\"Orchestra/RFTN20_CE\",\"Orchestra/RFTN20_RATE\",\"Solar8000/HR\",\"Solar8000/PLETH_SPO2\",\"Solar8000/ART_MBP\",\"Solar8000/ART_SBP\",\"Solar8000/BT\",\"BIS/BIS\",\"InfusionSpikes\"]\n",
    "\n",
    "\n",
    "\n",
    "final_df.reset_index(drop=True,inplace=True)\n",
    "final_df[static_tracks]=final_df[static_tracks].astype(\"float\")\n",
    "final_df[time_varying_known]=final_df[time_varying_known].astype(\"float\")\n",
    "final_df[time_varying_notknown]=final_df[time_varying_notknown].astype(\"float\")\n",
    "final_df[\"InfusionSpikes\"]=final_df[\"InfusionSpikes\"].astype(int)\n",
    "final_df[\"time\"]=final_df[\"time\"].astype(int)\n",
    "final_df[static_cat]=final_df[static_cat].astype(str)\n",
    "final_df=final_df.dropna()\n",
    "final_df.reset_index(drop=True,inplace=True)\n",
    "\n",
    "\n",
    "final_df[\"Marsh\"]=final_df[\"Marsh\"]*marsh_coeff\n",
    "final_df[\"Schnider\"]=final_df[\"Schnider\"]*schnider_coeff\n",
    "final_df[\"Eleveld\"]=final_df[\"Eleveld\"]*eleveld_coeff\n"
   ]
  },
  {
   "cell_type": "code",
   "execution_count": 7,
   "metadata": {},
   "outputs": [
    {
     "name": "stderr",
     "output_type": "stream",
     "text": [
      "/var/folders/3s/hcbtx1hn1cs7zkby2nr_hyp80000gn/T/ipykernel_99786/761977438.py:10: SettingWithCopyWarning: \n",
      "A value is trying to be set on a copy of a slice from a DataFrame.\n",
      "Try using .loc[row_indexer,col_indexer] = value instead\n",
      "\n",
      "See the caveats in the documentation: https://pandas.pydata.org/pandas-docs/stable/user_guide/indexing.html#returning-a-view-versus-a-copy\n",
      "  train_df[\"InfusionSpikes\"]=train_df[\"InfusionSpikes\"].astype(\"Int64\")\n"
     ]
    }
   ],
   "source": [
    "with open(\"/Users/charansr/model_training/train_caseids.pkl\", 'rb') as file:\n",
    "    traincas = pickle.load(file)\n",
    "\n",
    "traincas = [caseid for caseid in traincas]\n",
    "traincas.sort()\n",
    "traincas=traincas[0:3]\n",
    "train_df=final_df[final_df[\"caseid\"].isin(traincas)]\n",
    "\n",
    "#train_df=final_df[final_df[\"caseid\"]==34]\n",
    "train_df[\"InfusionSpikes\"]=train_df[\"InfusionSpikes\"].astype(\"Int64\")\n",
    "\n",
    "with open(\"/Users/charansr/model_training/val_caseids.pkl\", 'rb') as file:\n",
    "    valcas = pickle.load(file)\n",
    "\n",
    "valcas = [caseid for caseid in valcas if caseid < 1008]\n",
    "valcas.sort()\n",
    "valcas=valcas[0:1]\n",
    "val_df=final_df[final_df[\"caseid\"].isin(valcas)]\n",
    "\n",
    "\n",
    "val_df=val_df.reset_index(drop=True)\n",
    "train_df=train_df.reset_index(drop=True)\n",
    "#Hyperparameters"
   ]
  },
  {
   "cell_type": "code",
   "execution_count": 8,
   "metadata": {},
   "outputs": [],
   "source": [
    "with open(\"/Users/charansr/model_training/test_caseids.pkl\", 'rb') as file:\n",
    "    testcas = pickle.load(file)"
   ]
  },
  {
   "cell_type": "code",
   "execution_count": 9,
   "metadata": {},
   "outputs": [],
   "source": [
    "\n",
    "max_prediction_length = 1\n",
    "max_encoder_length = 200\n",
    "\n",
    "training = TimeSeriesDataSet(\n",
    "    train_df,\n",
    "    time_idx=\"time\",\n",
    "    target=\"InfusionSpikes\",\n",
    "    group_ids=[\"caseid\"],\n",
    "    min_encoder_length=max_encoder_length // 2, \n",
    "    max_encoder_length=max_encoder_length,\n",
    "    min_prediction_length=1,\n",
    "    max_prediction_length=max_prediction_length,\n",
    "    static_categoricals=static_cat,\n",
    "    static_reals=static_tracks,\n",
    "    time_varying_known_reals=time_varying_known,\n",
    "    time_varying_unknown_reals=time_varying_notknown,\n",
    "    target_normalizer=NaNLabelEncoder(),\n",
    "    add_relative_time_idx=True,\n",
    "    add_target_scales=True,\n",
    "    add_encoder_length=True,\n",
    "    allow_missing_timesteps=True\n",
    ")\n",
    "train_dataloader = training.to_dataloader(train=True, batch_size=batch_size, num_workers=workernum, persistent_workers=brave_workers,pin_memory=pinmem)\n",
    "\n"
   ]
  },
  {
   "cell_type": "code",
   "execution_count": 10,
   "metadata": {},
   "outputs": [],
   "source": [
    "\n",
    "validation = TimeSeriesDataSet(\n",
    "    val_df,\n",
    "    time_idx=\"time\",\n",
    "    target=\"InfusionSpikes\",\n",
    "    group_ids=[\"caseid\"],\n",
    "    min_encoder_length=max_encoder_length // 2, \n",
    "    max_encoder_length=max_encoder_length,\n",
    "    min_prediction_length=1,\n",
    "    max_prediction_length=max_prediction_length,\n",
    "    static_categoricals=static_cat,\n",
    "    static_reals=static_tracks,\n",
    "    time_varying_known_reals=time_varying_known,\n",
    "    time_varying_unknown_reals=time_varying_notknown,\n",
    "    target_normalizer=NaNLabelEncoder(),  # we normalize by group\n",
    "    add_relative_time_idx=True,\n",
    "    add_target_scales=True,\n",
    "    add_encoder_length=True,\n",
    "    allow_missing_timesteps=True\n",
    ")\n",
    "\n",
    "val_dataloader = validation.to_dataloader(train=False, batch_size=batch_size, num_workers=workernum, persistent_workers=brave_workers,pin_memory=pinmem)"
   ]
  },
  {
   "cell_type": "code",
   "execution_count": 11,
   "metadata": {},
   "outputs": [],
   "source": [
    "\n",
    "best_checkpoint_callback = ModelCheckpoint(\n",
    "    monitor='val_loss',  # Choose a metric to monitor (e.g., validation loss)\n",
    "    dirpath='/home/sridhar/binary_out_dev1/checkpoints/',  # Directory to save checkpoints\n",
    "    filename='binary_best_model-{epoch:02d}-{val_loss:.2f}',  # Naming pattern for saved checkpoints\n",
    "    save_top_k=1,  # Save only the best model\n",
    "    every_n_epochs=1,\n",
    "    mode='min',  # 'min' if monitoring validation loss, 'max' if monitoring validation accuracy\n",
    ")\n",
    "all_checkpoint_callback = ModelCheckpoint(\n",
    "    dirpath='/home/sridhar/binary_out_dev1/checkpoints/',  # Directory to save checkpoints\n",
    "    filename='binary_all_model-{epoch:02d}-{val_loss:.2f}',  # Naming pattern for saved checkpoints\n",
    "    save_top_k=-1,\n",
    "    every_n_epochs=1\n",
    ")\n",
    "\n",
    "\n",
    "class metric_record(pl.callbacks.Callback):\n",
    "    \n",
    "    def on_epoch_start(self, trainer, pl_module):\n",
    "        print(trainer.current_epoch)\n",
    "        newep=str(trainer.current_epoch)\n",
    "        newep+=\"\\n\"\n",
    "        append_string_to_txt(newep,\"/home/sridhar/binary_out_dev1/binary_output.txt\")\n",
    "        #print(pl_module.logging_metrics)\n",
    "        #print(trainer.callback_metrics)\n",
    "        \"\"\"for metric in pl_module.logging_metrics:\n",
    "            metric_name = metric.__class__.__name__\n",
    "            value = trainer.callback_metrics.get(metric_name, None)\n",
    "            print(f'{metric_name}: {value}')\n",
    "            a=f'{metric_name}: {value}\\n'\n",
    "            append_string_to_txt(a,\"binary_output.txt\")\"\"\""
   ]
  },
  {
   "cell_type": "code",
   "execution_count": 12,
   "metadata": {},
   "outputs": [],
   "source": [
    "\n",
    "class custom_tft(TemporalFusionTransformer):\n",
    "    def log_metrics(\n",
    "        self,\n",
    "        x: Dict[str, torch.Tensor],\n",
    "        y: torch.Tensor,\n",
    "        out: Dict[str, torch.Tensor],\n",
    "        prediction_kwargs: Dict[str, Any] = None,\n",
    "    ) -> None:\n",
    "        \"\"\"\n",
    "        Log metrics every training/validation step.\n",
    "\n",
    "        Args:\n",
    "            x (Dict[str, torch.Tensor]): x as passed to the network by the dataloader\n",
    "            y (torch.Tensor): y as passed to the loss function by the dataloader\n",
    "            out (Dict[str, torch.Tensor]): output of the network\n",
    "            prediction_kwargs (Dict[str, Any]): parameters for ``to_prediction()`` of the loss metric.\n",
    "        \"\"\"\n",
    "        # logging losses - for each target\n",
    "        if prediction_kwargs is None:\n",
    "            prediction_kwargs = {}\n",
    "        y_hat_point = self.to_prediction(out, **prediction_kwargs)\n",
    "        if isinstance(self.loss, MultiLoss):\n",
    "            y_hat_point_detached = [p.detach() for p in y_hat_point]\n",
    "        else:\n",
    "            y_hat_point_detached = [y_hat_point.detach()]\n",
    "\n",
    "        for metric in self.logging_metrics:\n",
    "            for idx, y_point, y_part, encoder_target in zip(\n",
    "                list(range(len(y_hat_point_detached))),\n",
    "                y_hat_point_detached,\n",
    "                to_list(y[0]),\n",
    "                to_list(x[\"encoder_target\"]),\n",
    "            ):\n",
    "                y_true = (y_part, y[1])\n",
    "                if isinstance(metric, MASE):\n",
    "                    loss_value = metric(\n",
    "                        y_point, y_true, encoder_target=encoder_target, encoder_lengths=x[\"encoder_lengths\"]\n",
    "                    )\n",
    "                else:\n",
    "                    loss_value = metric(y_point, y_true)\n",
    "                if len(y_hat_point_detached) > 1:\n",
    "                    target_tag = self.target_names[idx] + \" \"\n",
    "                else:\n",
    "                    target_tag = \"\"\n",
    "                    \n",
    "                    #CUSTOM PART START\n",
    "                    #print(f\"{target_tag}{self.current_stage}_{metric.name}\",\": \",loss_value)\n",
    "                    save_string = \"{}{}_{}: {}\".format(target_tag, self.current_stage, metric.name, loss_value)\n",
    "                    save_string+=\"\\n\"\n",
    "                    append_string_to_txt(save_string,\"/home/sridhar/binary_out_dev1/binary_output.txt\")\n",
    "                    # CUSTOM PART END\n",
    "                    \n",
    "                    self.log(\n",
    "                    f\"{target_tag}{self.current_stage}_{metric.name}\",\n",
    "                    loss_value,\n",
    "                    on_step=self.training,\n",
    "                    on_epoch=True,\n",
    "                    batch_size=len(x[\"decoder_target\"]),\n",
    "                    sync_dist=True\n",
    "                )\n"
   ]
  },
  {
   "cell_type": "code",
   "execution_count": 13,
   "metadata": {},
   "outputs": [],
   "source": [
    "\n",
    "class customCrossEntropy(CrossEntropy):\n",
    "    def loss(self, y_pred, target):\n",
    "        loss = F.cross_entropy(y_pred.view(-1, y_pred.size(-1)), target.view(-1), weight=torch.tensor([1.0,1.5],device=\"cuda\"),reduction=\"none\").view(\n",
    "            -1, target.size(-1)\n",
    "        )\n",
    "        return loss"
   ]
  },
  {
   "cell_type": "code",
   "execution_count": 14,
   "metadata": {},
   "outputs": [],
   "source": [
    "\n",
    "early_stop_callback = EarlyStopping(monitor=\"val_loss\", min_delta=1e-4, patience=5, verbose=True, mode=\"min\")\n",
    "logger = TensorBoardLogger(save_dir=\"/home/sridhar/binary_out_dev1\")  "
   ]
  },
  {
   "cell_type": "code",
   "execution_count": 15,
   "metadata": {},
   "outputs": [
    {
     "name": "stderr",
     "output_type": "stream",
     "text": [
      "GPU available: True (mps), used: True\n",
      "TPU available: False, using: 0 TPU cores\n",
      "IPU available: False, using: 0 IPUs\n",
      "HPU available: False, using: 0 HPUs\n"
     ]
    }
   ],
   "source": [
    "\n",
    "trainer = pl.Trainer(\n",
    "    max_epochs=45,\n",
    "    accelerator='gpu',\n",
    "    devices=\"auto\",\n",
    "    strategy=\"auto\", \n",
    "    enable_model_summary=True,\n",
    "    gradient_clip_val=0.01,\n",
    "    callbacks=[early_stop_callback,best_checkpoint_callback,all_checkpoint_callback,metric_record()],\n",
    "    logger=logger,\n",
    "    log_every_n_steps=50,\n",
    "    accumulate_grad_batches=8,\n",
    "    limit_val_batches=0.2,\n",
    "     limit_train_batches=0.4\n",
    ")\n"
   ]
  },
  {
   "cell_type": "code",
   "execution_count": 16,
   "metadata": {},
   "outputs": [
    {
     "name": "stderr",
     "output_type": "stream",
     "text": [
      "/Users/charansr/model_training/venv/lib/python3.10/site-packages/lightning/pytorch/utilities/parsing.py:199: Attribute 'loss' is an instance of `nn.Module` and is already saved during checkpointing. It is recommended to ignore them using `self.save_hyperparameters(ignore=['loss'])`.\n",
      "/Users/charansr/model_training/venv/lib/python3.10/site-packages/lightning/pytorch/utilities/parsing.py:199: Attribute 'logging_metrics' is an instance of `nn.Module` and is already saved during checkpointing. It is recommended to ignore them using `self.save_hyperparameters(ignore=['logging_metrics'])`.\n"
     ]
    }
   ],
   "source": [
    "\n",
    "tft = custom_tft.from_dataset(\n",
    "    training,\n",
    "    learning_rate=0.01,\n",
    "    hidden_size=160,\n",
    "    attention_head_size=4,\n",
    "    dropout=0.1,\n",
    "    hidden_continuous_size=160,\n",
    "    output_size=2,  \n",
    "    loss=customCrossEntropy(),\n",
    "    log_interval=10, \n",
    "    reduce_on_plateau_patience=4,\n",
    "    logging_metrics = nn.ModuleList([SMAPE(), MAE(), RMSE(), MAPE()])\n",
    ")\n"
   ]
  },
  {
   "cell_type": "code",
   "execution_count": 17,
   "metadata": {},
   "outputs": [],
   "source": [
    "test_df=final_df[final_df[\"caseid\"]== 14]"
   ]
  },
  {
   "cell_type": "code",
   "execution_count": 18,
   "metadata": {},
   "outputs": [
    {
     "name": "stderr",
     "output_type": "stream",
     "text": [
      "/Users/charansr/model_training/venv/lib/python3.10/site-packages/sklearn/base.py:376: InconsistentVersionWarning: Trying to unpickle estimator StandardScaler from version 1.4.1.post1 when using version 1.4.0. This might lead to breaking code or invalid results. Use at your own risk. For more info please refer to:\n",
      "https://scikit-learn.org/stable/model_persistence.html#security-maintainability-limitations\n",
      "  warnings.warn(\n"
     ]
    },
    {
     "data": {
      "text/plain": [
       "<All keys matched successfully>"
      ]
     },
     "execution_count": 18,
     "metadata": {},
     "output_type": "execute_result"
    }
   ],
   "source": [
    "path = \"/Users/charansr/binary_output_anesthesia/checkpoints/binary_best_model-epoch=08-val_loss=0.03.ckpt\"\n",
    "checkpoint=torch.load(path,map_location=torch.device('mps'))\n",
    "tft.load_state_dict(state_dict=checkpoint[\"state_dict\"])"
   ]
  },
  {
   "cell_type": "code",
   "execution_count": 34,
   "metadata": {},
   "outputs": [],
   "source": [
    "logging.getLogger(\"lightning.pytorch.utilities.rank_zero\").setLevel(logging.WARNING)\n",
    "mypreds=[]\n",
    "myactual=[]\n",
    "for i in range(0,500):\n",
    "    test_df=final_df[final_df[\"caseid\"]== 14]\n",
    "    test_df=test_df[0+i:202+i]\n",
    "    test_df.reset_index(inplace=True,drop=True)\n",
    "    test = TimeSeriesDataSet(\n",
    "        test_df,\n",
    "        time_idx=\"time\",\n",
    "        target=\"InfusionSpikes\",\n",
    "        group_ids=[\"caseid\"],\n",
    "        min_encoder_length=max_encoder_length // 2, \n",
    "        max_encoder_length=max_encoder_length,\n",
    "        min_prediction_length=1,\n",
    "        max_prediction_length=max_prediction_length,\n",
    "        static_categoricals=static_cat,\n",
    "        static_reals=static_tracks,\n",
    "        time_varying_known_reals=time_varying_known,\n",
    "        time_varying_unknown_reals=time_varying_notknown,\n",
    "        target_normalizer=NaNLabelEncoder(),\n",
    "        add_relative_time_idx=True,\n",
    "        add_target_scales=True,\n",
    "        add_encoder_length=True,\n",
    "        allow_missing_timesteps=True\n",
    "    )\n",
    "    test_dataloader = test.to_dataloader(train=False, batch_size=1, num_workers=1, persistent_workers=False,pin_memory=False)\n",
    "    predictions = tft.predict(test_dataloader, return_y=True, fast_dev_run=True,trainer_kwargs=dict(accelerator=\"mps\"))\n",
    "    mypreds+=[predictions.output.item()]\n",
    "    myactual+=[predictions.y[0].item()]\n"
   ]
  },
  {
   "cell_type": "code",
   "execution_count": null,
   "metadata": {},
   "outputs": [
    {
     "data": {
      "text/plain": [
       "[<matplotlib.lines.Line2D at 0x2fad86380>]"
      ]
     },
     "execution_count": 30,
     "metadata": {},
     "output_type": "execute_result"
    },
    {
     "data": {
      "image/png": "[encoded data removed]",
      "text/plain": [
       "<Figure size 640x480 with 1 Axes>"
      ]
     },
     "metadata": {},
     "output_type": "display_data"
    }
   ],
   "source": [
    "plt.plot(myactual)\n",
    "plt.plot(mypreds)"
   ]
  },
  {
   "cell_type": "code",
   "execution_count": null,
   "metadata": {},
   "outputs": [],
   "source": []
  }
 ],
 "metadata": {
  "kernelspec": {
   "display_name": "venv",
   "language": "python",
   "name": "python3"
  },
  "language_info": {
   "codemirror_mode": {
    "name": "ipython",
    "version": 3
   },
   "file_extension": ".py",
   "mimetype": "text/x-python",
   "name": "python",
   "nbconvert_exporter": "python",
   "pygments_lexer": "ipython3",
   "version": "3.10.11"
  }
 },
 "nbformat": 4,
 "nbformat_minor": 2
}
